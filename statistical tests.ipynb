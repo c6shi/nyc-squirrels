{
 "cells": [
  {
   "cell_type": "code",
   "execution_count": 15,
   "id": "61b9d1b6",
   "metadata": {},
   "outputs": [],
   "source": [
    "import pandas as pd\n",
    "import numpy as np\n",
    "import matplotlib.pyplot as plt"
   ]
  },
  {
   "cell_type": "code",
   "execution_count": 16,
   "id": "664241d4",
   "metadata": {},
   "outputs": [],
   "source": [
    "sqrls = pd.read_csv('dataframes/bfsqrls.csv')"
   ]
  },
  {
   "cell_type": "code",
   "execution_count": 17,
   "id": "356be4db",
   "metadata": {},
   "outputs": [],
   "source": [
    "sqrls = sqrls.drop(columns='Unnamed: 0')"
   ]
  },
  {
   "cell_type": "code",
   "execution_count": 46,
   "id": "b41eed65",
   "metadata": {},
   "outputs": [
    {
     "data": {
      "text/html": [
       "<div>\n",
       "<style scoped>\n",
       "    .dataframe tbody tr th:only-of-type {\n",
       "        vertical-align: middle;\n",
       "    }\n",
       "\n",
       "    .dataframe tbody tr th {\n",
       "        vertical-align: top;\n",
       "    }\n",
       "\n",
       "    .dataframe thead th {\n",
       "        text-align: right;\n",
       "    }\n",
       "</style>\n",
       "<table border=\"1\" class=\"dataframe\">\n",
       "  <thead>\n",
       "    <tr style=\"text-align: right;\">\n",
       "      <th></th>\n",
       "      <th>approaches</th>\n",
       "      <th>indifferent</th>\n",
       "      <th>runs_from</th>\n",
       "      <th>running</th>\n",
       "      <th>chasing</th>\n",
       "      <th>climbing</th>\n",
       "      <th>eating</th>\n",
       "      <th>foraging</th>\n",
       "      <th>kuks</th>\n",
       "      <th>quaas</th>\n",
       "      <th>moans</th>\n",
       "      <th>tail_flags</th>\n",
       "      <th>tail_twitches</th>\n",
       "      <th>nearbuilding</th>\n",
       "      <th>neargarden</th>\n",
       "      <th>neargrass</th>\n",
       "      <th>nearpedestrian</th>\n",
       "      <th>nearwater</th>\n",
       "      <th>nearwoods</th>\n",
       "    </tr>\n",
       "  </thead>\n",
       "  <tbody>\n",
       "    <tr>\n",
       "      <th>0</th>\n",
       "      <td>0</td>\n",
       "      <td>0</td>\n",
       "      <td>1</td>\n",
       "      <td>1</td>\n",
       "      <td>0</td>\n",
       "      <td>0</td>\n",
       "      <td>0</td>\n",
       "      <td>0</td>\n",
       "      <td>0</td>\n",
       "      <td>0</td>\n",
       "      <td>0</td>\n",
       "      <td>0</td>\n",
       "      <td>0</td>\n",
       "      <td>False</td>\n",
       "      <td>False</td>\n",
       "      <td>False</td>\n",
       "      <td>False</td>\n",
       "      <td>True</td>\n",
       "      <td>True</td>\n",
       "    </tr>\n",
       "    <tr>\n",
       "      <th>1</th>\n",
       "      <td>0</td>\n",
       "      <td>0</td>\n",
       "      <td>1</td>\n",
       "      <td>0</td>\n",
       "      <td>0</td>\n",
       "      <td>1</td>\n",
       "      <td>0</td>\n",
       "      <td>0</td>\n",
       "      <td>0</td>\n",
       "      <td>0</td>\n",
       "      <td>0</td>\n",
       "      <td>0</td>\n",
       "      <td>0</td>\n",
       "      <td>False</td>\n",
       "      <td>False</td>\n",
       "      <td>True</td>\n",
       "      <td>False</td>\n",
       "      <td>False</td>\n",
       "      <td>False</td>\n",
       "    </tr>\n",
       "    <tr>\n",
       "      <th>2</th>\n",
       "      <td>0</td>\n",
       "      <td>0</td>\n",
       "      <td>0</td>\n",
       "      <td>0</td>\n",
       "      <td>0</td>\n",
       "      <td>0</td>\n",
       "      <td>0</td>\n",
       "      <td>0</td>\n",
       "      <td>0</td>\n",
       "      <td>0</td>\n",
       "      <td>0</td>\n",
       "      <td>0</td>\n",
       "      <td>0</td>\n",
       "      <td>False</td>\n",
       "      <td>False</td>\n",
       "      <td>True</td>\n",
       "      <td>False</td>\n",
       "      <td>False</td>\n",
       "      <td>False</td>\n",
       "    </tr>\n",
       "    <tr>\n",
       "      <th>3</th>\n",
       "      <td>0</td>\n",
       "      <td>0</td>\n",
       "      <td>1</td>\n",
       "      <td>0</td>\n",
       "      <td>0</td>\n",
       "      <td>0</td>\n",
       "      <td>0</td>\n",
       "      <td>1</td>\n",
       "      <td>0</td>\n",
       "      <td>0</td>\n",
       "      <td>0</td>\n",
       "      <td>0</td>\n",
       "      <td>0</td>\n",
       "      <td>False</td>\n",
       "      <td>False</td>\n",
       "      <td>False</td>\n",
       "      <td>False</td>\n",
       "      <td>True</td>\n",
       "      <td>False</td>\n",
       "    </tr>\n",
       "    <tr>\n",
       "      <th>4</th>\n",
       "      <td>0</td>\n",
       "      <td>0</td>\n",
       "      <td>0</td>\n",
       "      <td>0</td>\n",
       "      <td>0</td>\n",
       "      <td>0</td>\n",
       "      <td>0</td>\n",
       "      <td>1</td>\n",
       "      <td>0</td>\n",
       "      <td>0</td>\n",
       "      <td>0</td>\n",
       "      <td>0</td>\n",
       "      <td>0</td>\n",
       "      <td>False</td>\n",
       "      <td>False</td>\n",
       "      <td>False</td>\n",
       "      <td>False</td>\n",
       "      <td>True</td>\n",
       "      <td>True</td>\n",
       "    </tr>\n",
       "    <tr>\n",
       "      <th>...</th>\n",
       "      <td>...</td>\n",
       "      <td>...</td>\n",
       "      <td>...</td>\n",
       "      <td>...</td>\n",
       "      <td>...</td>\n",
       "      <td>...</td>\n",
       "      <td>...</td>\n",
       "      <td>...</td>\n",
       "      <td>...</td>\n",
       "      <td>...</td>\n",
       "      <td>...</td>\n",
       "      <td>...</td>\n",
       "      <td>...</td>\n",
       "      <td>...</td>\n",
       "      <td>...</td>\n",
       "      <td>...</td>\n",
       "      <td>...</td>\n",
       "      <td>...</td>\n",
       "      <td>...</td>\n",
       "    </tr>\n",
       "    <tr>\n",
       "      <th>1748</th>\n",
       "      <td>0</td>\n",
       "      <td>1</td>\n",
       "      <td>0</td>\n",
       "      <td>0</td>\n",
       "      <td>0</td>\n",
       "      <td>0</td>\n",
       "      <td>1</td>\n",
       "      <td>0</td>\n",
       "      <td>0</td>\n",
       "      <td>0</td>\n",
       "      <td>0</td>\n",
       "      <td>0</td>\n",
       "      <td>0</td>\n",
       "      <td>False</td>\n",
       "      <td>False</td>\n",
       "      <td>True</td>\n",
       "      <td>False</td>\n",
       "      <td>False</td>\n",
       "      <td>False</td>\n",
       "    </tr>\n",
       "    <tr>\n",
       "      <th>1749</th>\n",
       "      <td>0</td>\n",
       "      <td>0</td>\n",
       "      <td>1</td>\n",
       "      <td>0</td>\n",
       "      <td>1</td>\n",
       "      <td>0</td>\n",
       "      <td>0</td>\n",
       "      <td>0</td>\n",
       "      <td>0</td>\n",
       "      <td>0</td>\n",
       "      <td>0</td>\n",
       "      <td>0</td>\n",
       "      <td>1</td>\n",
       "      <td>False</td>\n",
       "      <td>False</td>\n",
       "      <td>True</td>\n",
       "      <td>False</td>\n",
       "      <td>False</td>\n",
       "      <td>False</td>\n",
       "    </tr>\n",
       "    <tr>\n",
       "      <th>1750</th>\n",
       "      <td>0</td>\n",
       "      <td>1</td>\n",
       "      <td>0</td>\n",
       "      <td>0</td>\n",
       "      <td>0</td>\n",
       "      <td>1</td>\n",
       "      <td>1</td>\n",
       "      <td>0</td>\n",
       "      <td>1</td>\n",
       "      <td>0</td>\n",
       "      <td>0</td>\n",
       "      <td>0</td>\n",
       "      <td>0</td>\n",
       "      <td>False</td>\n",
       "      <td>False</td>\n",
       "      <td>False</td>\n",
       "      <td>False</td>\n",
       "      <td>True</td>\n",
       "      <td>False</td>\n",
       "    </tr>\n",
       "    <tr>\n",
       "      <th>1751</th>\n",
       "      <td>0</td>\n",
       "      <td>1</td>\n",
       "      <td>0</td>\n",
       "      <td>0</td>\n",
       "      <td>0</td>\n",
       "      <td>0</td>\n",
       "      <td>1</td>\n",
       "      <td>1</td>\n",
       "      <td>0</td>\n",
       "      <td>0</td>\n",
       "      <td>0</td>\n",
       "      <td>0</td>\n",
       "      <td>0</td>\n",
       "      <td>False</td>\n",
       "      <td>False</td>\n",
       "      <td>False</td>\n",
       "      <td>False</td>\n",
       "      <td>False</td>\n",
       "      <td>True</td>\n",
       "    </tr>\n",
       "    <tr>\n",
       "      <th>1752</th>\n",
       "      <td>1</td>\n",
       "      <td>0</td>\n",
       "      <td>0</td>\n",
       "      <td>0</td>\n",
       "      <td>0</td>\n",
       "      <td>0</td>\n",
       "      <td>1</td>\n",
       "      <td>1</td>\n",
       "      <td>0</td>\n",
       "      <td>0</td>\n",
       "      <td>0</td>\n",
       "      <td>0</td>\n",
       "      <td>0</td>\n",
       "      <td>False</td>\n",
       "      <td>False</td>\n",
       "      <td>True</td>\n",
       "      <td>False</td>\n",
       "      <td>False</td>\n",
       "      <td>False</td>\n",
       "    </tr>\n",
       "  </tbody>\n",
       "</table>\n",
       "<p>1753 rows × 19 columns</p>\n",
       "</div>"
      ],
      "text/plain": [
       "      approaches  indifferent  runs_from  running  chasing  climbing  eating  \\\n",
       "0              0            0          1        1        0         0       0   \n",
       "1              0            0          1        0        0         1       0   \n",
       "2              0            0          0        0        0         0       0   \n",
       "3              0            0          1        0        0         0       0   \n",
       "4              0            0          0        0        0         0       0   \n",
       "...          ...          ...        ...      ...      ...       ...     ...   \n",
       "1748           0            1          0        0        0         0       1   \n",
       "1749           0            0          1        0        1         0       0   \n",
       "1750           0            1          0        0        0         1       1   \n",
       "1751           0            1          0        0        0         0       1   \n",
       "1752           1            0          0        0        0         0       1   \n",
       "\n",
       "      foraging  kuks  quaas  moans  tail_flags  tail_twitches  nearbuilding  \\\n",
       "0            0     0      0      0           0              0         False   \n",
       "1            0     0      0      0           0              0         False   \n",
       "2            0     0      0      0           0              0         False   \n",
       "3            1     0      0      0           0              0         False   \n",
       "4            1     0      0      0           0              0         False   \n",
       "...        ...   ...    ...    ...         ...            ...           ...   \n",
       "1748         0     0      0      0           0              0         False   \n",
       "1749         0     0      0      0           0              1         False   \n",
       "1750         0     1      0      0           0              0         False   \n",
       "1751         1     0      0      0           0              0         False   \n",
       "1752         1     0      0      0           0              0         False   \n",
       "\n",
       "      neargarden  neargrass  nearpedestrian  nearwater  nearwoods  \n",
       "0          False      False           False       True       True  \n",
       "1          False       True           False      False      False  \n",
       "2          False       True           False      False      False  \n",
       "3          False      False           False       True      False  \n",
       "4          False      False           False       True       True  \n",
       "...          ...        ...             ...        ...        ...  \n",
       "1748       False       True           False      False      False  \n",
       "1749       False       True           False      False      False  \n",
       "1750       False      False           False       True      False  \n",
       "1751       False      False           False      False       True  \n",
       "1752       False       True           False      False      False  \n",
       "\n",
       "[1753 rows x 19 columns]"
      ]
     },
     "execution_count": 46,
     "metadata": {},
     "output_type": "execute_result"
    }
   ],
   "source": [
    "sqrls"
   ]
  },
  {
   "cell_type": "code",
   "execution_count": 45,
   "id": "0cbb9e24",
   "metadata": {},
   "outputs": [
    {
     "data": {
      "text/plain": [
       "0    0.513406\n",
       "1    0.486594\n",
       "Name: foraging, dtype: float64"
      ]
     },
     "execution_count": 45,
     "metadata": {},
     "output_type": "execute_result"
    }
   ],
   "source": [
    "sqrls['foraging'].value_counts(normalize=True)"
   ]
  },
  {
   "cell_type": "markdown",
   "id": "47f5ab5a",
   "metadata": {},
   "source": [
    "### indifferent, nearwater, neargrass (test 1)"
   ]
  },
  {
   "cell_type": "code",
   "execution_count": 53,
   "id": "43e948a3",
   "metadata": {},
   "outputs": [
    {
     "data": {
      "text/html": [
       "<div>\n",
       "<style scoped>\n",
       "    .dataframe tbody tr th:only-of-type {\n",
       "        vertical-align: middle;\n",
       "    }\n",
       "\n",
       "    .dataframe tbody tr th {\n",
       "        vertical-align: top;\n",
       "    }\n",
       "\n",
       "    .dataframe thead th {\n",
       "        text-align: right;\n",
       "    }\n",
       "</style>\n",
       "<table border=\"1\" class=\"dataframe\">\n",
       "  <thead>\n",
       "    <tr style=\"text-align: right;\">\n",
       "      <th></th>\n",
       "      <th>nearwater</th>\n",
       "      <th>neargrass</th>\n",
       "    </tr>\n",
       "    <tr>\n",
       "      <th>indifferent</th>\n",
       "      <th></th>\n",
       "      <th></th>\n",
       "    </tr>\n",
       "  </thead>\n",
       "  <tbody>\n",
       "    <tr>\n",
       "      <th>0</th>\n",
       "      <td>200</td>\n",
       "      <td>368</td>\n",
       "    </tr>\n",
       "    <tr>\n",
       "      <th>1</th>\n",
       "      <td>242</td>\n",
       "      <td>272</td>\n",
       "    </tr>\n",
       "  </tbody>\n",
       "</table>\n",
       "</div>"
      ],
      "text/plain": [
       "             nearwater  neargrass\n",
       "indifferent                      \n",
       "0                  200        368\n",
       "1                  242        272"
      ]
     },
     "execution_count": 53,
     "metadata": {},
     "output_type": "execute_result"
    }
   ],
   "source": [
    "indifferent = sqrls[['indifferent', 'nearwater', 'neargrass']]\n",
    "grouped = indifferent.groupby(indifferent['indifferent']).sum()\n",
    "grouped"
   ]
  },
  {
   "cell_type": "code",
   "execution_count": 54,
   "id": "37499529",
   "metadata": {},
   "outputs": [
    {
     "data": {
      "text/html": [
       "<div>\n",
       "<style scoped>\n",
       "    .dataframe tbody tr th:only-of-type {\n",
       "        vertical-align: middle;\n",
       "    }\n",
       "\n",
       "    .dataframe tbody tr th {\n",
       "        vertical-align: top;\n",
       "    }\n",
       "\n",
       "    .dataframe thead th {\n",
       "        text-align: right;\n",
       "    }\n",
       "</style>\n",
       "<table border=\"1\" class=\"dataframe\">\n",
       "  <thead>\n",
       "    <tr style=\"text-align: right;\">\n",
       "      <th></th>\n",
       "      <th>nearwater</th>\n",
       "      <th>neargrass</th>\n",
       "    </tr>\n",
       "    <tr>\n",
       "      <th>indifferent</th>\n",
       "      <th></th>\n",
       "      <th></th>\n",
       "    </tr>\n",
       "  </thead>\n",
       "  <tbody>\n",
       "    <tr>\n",
       "      <th>0</th>\n",
       "      <td>0.452489</td>\n",
       "      <td>0.575</td>\n",
       "    </tr>\n",
       "    <tr>\n",
       "      <th>1</th>\n",
       "      <td>0.547511</td>\n",
       "      <td>0.425</td>\n",
       "    </tr>\n",
       "  </tbody>\n",
       "</table>\n",
       "</div>"
      ],
      "text/plain": [
       "             nearwater  neargrass\n",
       "indifferent                      \n",
       "0             0.452489      0.575\n",
       "1             0.547511      0.425"
      ]
     },
     "execution_count": 54,
     "metadata": {},
     "output_type": "execute_result"
    }
   ],
   "source": [
    "grouped = grouped.divide(grouped.sum(axis=0), axis=1)\n",
    "grouped"
   ]
  },
  {
   "cell_type": "code",
   "execution_count": 55,
   "id": "6fc42048",
   "metadata": {},
   "outputs": [
    {
     "data": {
      "text/plain": [
       "0.12251131221719463"
      ]
     },
     "execution_count": 55,
     "metadata": {},
     "output_type": "execute_result"
    }
   ],
   "source": [
    "observed_stat = abs(grouped.loc[1][1] - grouped.loc[1][0])\n",
    "observed_stat"
   ]
  },
  {
   "cell_type": "code",
   "execution_count": 56,
   "id": "6a535119",
   "metadata": {},
   "outputs": [
    {
     "data": {
      "text/html": [
       "<div>\n",
       "<style scoped>\n",
       "    .dataframe tbody tr th:only-of-type {\n",
       "        vertical-align: middle;\n",
       "    }\n",
       "\n",
       "    .dataframe tbody tr th {\n",
       "        vertical-align: top;\n",
       "    }\n",
       "\n",
       "    .dataframe thead th {\n",
       "        text-align: right;\n",
       "    }\n",
       "</style>\n",
       "<table border=\"1\" class=\"dataframe\">\n",
       "  <thead>\n",
       "    <tr style=\"text-align: right;\">\n",
       "      <th></th>\n",
       "      <th>indifferent</th>\n",
       "      <th>nearwater</th>\n",
       "      <th>neargrass</th>\n",
       "      <th>shuffled indifferent</th>\n",
       "    </tr>\n",
       "  </thead>\n",
       "  <tbody>\n",
       "    <tr>\n",
       "      <th>0</th>\n",
       "      <td>0</td>\n",
       "      <td>True</td>\n",
       "      <td>False</td>\n",
       "      <td>0</td>\n",
       "    </tr>\n",
       "    <tr>\n",
       "      <th>1</th>\n",
       "      <td>0</td>\n",
       "      <td>False</td>\n",
       "      <td>True</td>\n",
       "      <td>1</td>\n",
       "    </tr>\n",
       "    <tr>\n",
       "      <th>2</th>\n",
       "      <td>0</td>\n",
       "      <td>False</td>\n",
       "      <td>True</td>\n",
       "      <td>0</td>\n",
       "    </tr>\n",
       "    <tr>\n",
       "      <th>3</th>\n",
       "      <td>0</td>\n",
       "      <td>True</td>\n",
       "      <td>False</td>\n",
       "      <td>0</td>\n",
       "    </tr>\n",
       "    <tr>\n",
       "      <th>4</th>\n",
       "      <td>0</td>\n",
       "      <td>True</td>\n",
       "      <td>False</td>\n",
       "      <td>0</td>\n",
       "    </tr>\n",
       "    <tr>\n",
       "      <th>...</th>\n",
       "      <td>...</td>\n",
       "      <td>...</td>\n",
       "      <td>...</td>\n",
       "      <td>...</td>\n",
       "    </tr>\n",
       "    <tr>\n",
       "      <th>1748</th>\n",
       "      <td>1</td>\n",
       "      <td>False</td>\n",
       "      <td>True</td>\n",
       "      <td>1</td>\n",
       "    </tr>\n",
       "    <tr>\n",
       "      <th>1749</th>\n",
       "      <td>0</td>\n",
       "      <td>False</td>\n",
       "      <td>True</td>\n",
       "      <td>1</td>\n",
       "    </tr>\n",
       "    <tr>\n",
       "      <th>1750</th>\n",
       "      <td>1</td>\n",
       "      <td>True</td>\n",
       "      <td>False</td>\n",
       "      <td>0</td>\n",
       "    </tr>\n",
       "    <tr>\n",
       "      <th>1751</th>\n",
       "      <td>1</td>\n",
       "      <td>False</td>\n",
       "      <td>False</td>\n",
       "      <td>1</td>\n",
       "    </tr>\n",
       "    <tr>\n",
       "      <th>1752</th>\n",
       "      <td>0</td>\n",
       "      <td>False</td>\n",
       "      <td>True</td>\n",
       "      <td>1</td>\n",
       "    </tr>\n",
       "  </tbody>\n",
       "</table>\n",
       "<p>1753 rows × 4 columns</p>\n",
       "</div>"
      ],
      "text/plain": [
       "      indifferent  nearwater  neargrass  shuffled indifferent\n",
       "0               0       True      False                     0\n",
       "1               0      False       True                     1\n",
       "2               0      False       True                     0\n",
       "3               0       True      False                     0\n",
       "4               0       True      False                     0\n",
       "...           ...        ...        ...                   ...\n",
       "1748            1      False       True                     1\n",
       "1749            0      False       True                     1\n",
       "1750            1       True      False                     0\n",
       "1751            1      False      False                     1\n",
       "1752            0      False       True                     1\n",
       "\n",
       "[1753 rows x 4 columns]"
      ]
     },
     "execution_count": 56,
     "metadata": {},
     "output_type": "execute_result"
    }
   ],
   "source": [
    "shuffled = indifferent['indifferent'].sample(frac=1).reset_index(drop=True)\n",
    "shuffled_df = indifferent.assign(**{'shuffled indifferent': shuffled})\n",
    "shuffled_df"
   ]
  },
  {
   "cell_type": "code",
   "execution_count": 57,
   "id": "c825392f",
   "metadata": {},
   "outputs": [
    {
     "data": {
      "text/html": [
       "<div>\n",
       "<style scoped>\n",
       "    .dataframe tbody tr th:only-of-type {\n",
       "        vertical-align: middle;\n",
       "    }\n",
       "\n",
       "    .dataframe tbody tr th {\n",
       "        vertical-align: top;\n",
       "    }\n",
       "\n",
       "    .dataframe thead th {\n",
       "        text-align: right;\n",
       "    }\n",
       "</style>\n",
       "<table border=\"1\" class=\"dataframe\">\n",
       "  <thead>\n",
       "    <tr style=\"text-align: right;\">\n",
       "      <th></th>\n",
       "      <th>indifferent</th>\n",
       "      <th>nearwater</th>\n",
       "      <th>neargrass</th>\n",
       "    </tr>\n",
       "    <tr>\n",
       "      <th>shuffled indifferent</th>\n",
       "      <th></th>\n",
       "      <th></th>\n",
       "      <th></th>\n",
       "    </tr>\n",
       "  </thead>\n",
       "  <tbody>\n",
       "    <tr>\n",
       "      <th>0</th>\n",
       "      <td>0.529277</td>\n",
       "      <td>0.468326</td>\n",
       "      <td>0.498437</td>\n",
       "    </tr>\n",
       "    <tr>\n",
       "      <th>1</th>\n",
       "      <td>0.470723</td>\n",
       "      <td>0.531674</td>\n",
       "      <td>0.501563</td>\n",
       "    </tr>\n",
       "  </tbody>\n",
       "</table>\n",
       "</div>"
      ],
      "text/plain": [
       "                      indifferent  nearwater  neargrass\n",
       "shuffled indifferent                                   \n",
       "0                        0.529277   0.468326   0.498437\n",
       "1                        0.470723   0.531674   0.501563"
      ]
     },
     "execution_count": 57,
     "metadata": {},
     "output_type": "execute_result"
    }
   ],
   "source": [
    "shuffled_grouped = shuffled_df.groupby('shuffled indifferent').sum()\n",
    "shuffled_grouped = shuffled_grouped.divide(shuffled_grouped.sum(axis=0), axis=1)\n",
    "shuffled_grouped"
   ]
  },
  {
   "cell_type": "code",
   "execution_count": 58,
   "id": "d0d01f72",
   "metadata": {},
   "outputs": [
    {
     "data": {
      "text/plain": [
       "0.030111708144796356"
      ]
     },
     "execution_count": 58,
     "metadata": {},
     "output_type": "execute_result"
    }
   ],
   "source": [
    "shuffled_stat = abs(shuffled_grouped.loc[1][2] - shuffled_grouped.loc[1][1])\n",
    "shuffled_stat"
   ]
  },
  {
   "cell_type": "code",
   "execution_count": 59,
   "id": "41f28fe5",
   "metadata": {},
   "outputs": [],
   "source": [
    "stats = np.array([])\n",
    "\n",
    "for i in range(10000):\n",
    "    shuffled = indifferent['indifferent'].sample(frac=1).reset_index(drop=True)\n",
    "    shuffled_df = indifferent.assign(**{'shuffled indifferent': shuffled})\n",
    "    shuffled_grouped = shuffled_df.groupby('shuffled indifferent').sum()\n",
    "    shuffled_grouped = shuffled_grouped.divide(shuffled_grouped.sum(axis=0), axis=1)\n",
    "    shuffled_stat = abs(shuffled_grouped.loc[1][2] - shuffled_grouped.loc[1][1])\n",
    "    stats = np.append(stats, shuffled_stat)"
   ]
  },
  {
   "cell_type": "code",
   "execution_count": 60,
   "id": "0878a446",
   "metadata": {},
   "outputs": [
    {
     "data": {
      "text/plain": [
       "<matplotlib.lines.Line2D at 0x1402abdc0>"
      ]
     },
     "execution_count": 60,
     "metadata": {},
     "output_type": "execute_result"
    },
    {
     "data": {
      "image/png": "[encoded data removed]",
      "text/plain": [
       "<Figure size 432x288 with 1 Axes>"
      ]
     },
     "metadata": {
      "needs_background": "light"
     },
     "output_type": "display_data"
    }
   ],
   "source": [
    "pd.Series(stats).plot(kind='hist')\n",
    "plt.axvline(observed_stat, color = 'red')"
   ]
  },
  {
   "cell_type": "code",
   "execution_count": 61,
   "id": "a6d33040",
   "metadata": {},
   "outputs": [
    {
     "data": {
      "text/plain": [
       "0.0001"
      ]
     },
     "execution_count": 61,
     "metadata": {},
     "output_type": "execute_result"
    }
   ],
   "source": [
    "np.mean(stats >= observed_stat)"
   ]
  },
  {
   "cell_type": "markdown",
   "id": "ed85fa2f",
   "metadata": {},
   "source": [
    "### indifferent, nearwater, nearwoods"
   ]
  },
  {
   "cell_type": "code",
   "execution_count": 71,
   "id": "952a6812",
   "metadata": {},
   "outputs": [],
   "source": [
    "indifferent = sqrls[['indifferent', 'nearwater', 'nearwoods']]\n",
    "grouped = indifferent.groupby(indifferent['indifferent']).sum()\n",
    "grouped = grouped.divide(grouped.sum(axis=0), axis=1)\n",
    "observed_stat = abs(grouped.loc[1][1] - grouped.loc[1][0])\n",
    "\n",
    "stats = np.array([])\n",
    "\n",
    "for i in range(10000):\n",
    "    shuffled = indifferent['indifferent'].sample(frac=1).reset_index(drop=True)\n",
    "    shuffled_df = indifferent.assign(**{'shuffled indifferent': shuffled})\n",
    "    shuffled_grouped = shuffled_df.groupby('shuffled indifferent').sum()\n",
    "    shuffled_grouped = shuffled_grouped.divide(shuffled_grouped.sum(axis=0), axis=1)\n",
    "    shuffled_stat = abs(shuffled_grouped.loc[1][2] - shuffled_grouped.loc[1][1])\n",
    "    stats = np.append(stats, shuffled_stat)"
   ]
  },
  {
   "cell_type": "code",
   "execution_count": 72,
   "id": "3b862a5d",
   "metadata": {},
   "outputs": [
    {
     "data": {
      "text/plain": [
       "<matplotlib.lines.Line2D at 0x14316ed70>"
      ]
     },
     "execution_count": 72,
     "metadata": {},
     "output_type": "execute_result"
    },
    {
     "data": {
      "image/png": "[encoded data removed]",
      "text/plain": [
       "<Figure size 432x288 with 1 Axes>"
      ]
     },
     "metadata": {
      "needs_background": "light"
     },
     "output_type": "display_data"
    }
   ],
   "source": [
    "# pd.Series(stats).plot(kind='hist')\n",
    "plt.hist(stats)\n",
    "plt.axvline(observed_stat, color = 'red')"
   ]
  },
  {
   "cell_type": "code",
   "execution_count": 52,
   "id": "68b915ac",
   "metadata": {},
   "outputs": [
    {
     "data": {
      "text/plain": [
       "0.3293"
      ]
     },
     "execution_count": 52,
     "metadata": {},
     "output_type": "execute_result"
    }
   ],
   "source": [
    "np.mean(stats >= observed_stat)"
   ]
  },
  {
   "cell_type": "markdown",
   "id": "7afe0388",
   "metadata": {},
   "source": [
    "### runs_from, nearwater, neargrass"
   ]
  },
  {
   "cell_type": "code",
   "execution_count": 63,
   "id": "fc3b7c4f",
   "metadata": {},
   "outputs": [],
   "source": [
    "runs_from = sqrls[['runs_from', 'nearwater', 'neargrass']]\n",
    "grouped = runs_from.groupby(runs_from['runs_from']).sum()\n",
    "grouped = grouped.divide(grouped.sum(axis=0), axis=1)\n",
    "observed_stat = abs(grouped.loc[1][1] - grouped.loc[1][0])\n",
    "\n",
    "stats = np.array([])\n",
    "\n",
    "for i in range(10000):\n",
    "    shuffled = runs_from['runs_from'].sample(frac=1).reset_index(drop=True)\n",
    "    shuffled_df = runs_from.assign(**{'shuffled runs_from': shuffled})\n",
    "    shuffled_grouped = shuffled_df.groupby('shuffled runs_from').sum()\n",
    "    shuffled_grouped = shuffled_grouped.divide(shuffled_grouped.sum(axis=0), axis=1)\n",
    "    shuffled_stat = abs(shuffled_grouped.loc[1][2] - shuffled_grouped.loc[1][1])\n",
    "    stats = np.append(stats, shuffled_stat)"
   ]
  },
  {
   "cell_type": "code",
   "execution_count": 64,
   "id": "58f5c3db",
   "metadata": {},
   "outputs": [
    {
     "data": {
      "text/plain": [
       "<matplotlib.lines.Line2D at 0x142b6e590>"
      ]
     },
     "execution_count": 64,
     "metadata": {},
     "output_type": "execute_result"
    },
    {
     "data": {
      "image/png": "[encoded data removed]",
      "text/plain": [
       "<Figure size 432x288 with 1 Axes>"
      ]
     },
     "metadata": {
      "needs_background": "light"
     },
     "output_type": "display_data"
    }
   ],
   "source": [
    "pd.Series(stats).plot(kind='hist')\n",
    "plt.axvline(observed_stat, color = 'red')"
   ]
  },
  {
   "cell_type": "code",
   "execution_count": 65,
   "id": "11d88868",
   "metadata": {},
   "outputs": [
    {
     "data": {
      "text/plain": [
       "0.4721"
      ]
     },
     "execution_count": 65,
     "metadata": {},
     "output_type": "execute_result"
    }
   ],
   "source": [
    "np.mean(stats >= observed_stat)"
   ]
  },
  {
   "cell_type": "code",
   "execution_count": 76,
   "id": "d267072d",
   "metadata": {
    "scrolled": false
   },
   "outputs": [
    {
     "data": {
      "image/png": "[encoded data removed]",
      "text/plain": [
       "<Figure size 432x288 with 1 Axes>"
      ]
     },
     "metadata": {
      "needs_background": "light"
     },
     "output_type": "display_data"
    },
    {
     "name": "stdout",
     "output_type": "stream",
     "text": [
      "['approaches', 'nearbuilding', 'neargarden', 0.526]\n",
      "_____________________________________________\n"
     ]
    },
    {
     "data": {
      "image/png": "[encoded data removed]",
      "text/plain": [
       "<Figure size 432x288 with 1 Axes>"
      ]
     },
     "metadata": {
      "needs_background": "light"
     },
     "output_type": "display_data"
    },
    {
     "name": "stdout",
     "output_type": "stream",
     "text": [
      "['approaches', 'nearbuilding', 'neargrass', 0.973]\n",
      "_____________________________________________\n"
     ]
    },
    {
     "data": {
      "image/png": "[encoded data removed]",
      "text/plain": [
       "<Figure size 432x288 with 1 Axes>"
      ]
     },
     "metadata": {
      "needs_background": "light"
     },
     "output_type": "display_data"
    },
    {
     "name": "stdout",
     "output_type": "stream",
     "text": [
      "['approaches', 'nearbuilding', 'nearpedestrian', 0.4921]\n",
      "_____________________________________________\n"
     ]
    },
    {
     "data": {
      "image/png": "[encoded data removed]",
      "text/plain": [
       "<Figure size 432x288 with 1 Axes>"
      ]
     },
     "metadata": {
      "needs_background": "light"
     },
     "output_type": "display_data"
    },
    {
     "name": "stdout",
     "output_type": "stream",
     "text": [
      "['approaches', 'nearbuilding', 'nearwater', 0.7004]\n",
      "_____________________________________________\n"
     ]
    },
    {
     "data": {
      "image/png": "[encoded data removed]",
      "text/plain": [
       "<Figure size 432x288 with 1 Axes>"
      ]
     },
     "metadata": {
      "needs_background": "light"
     },
     "output_type": "display_data"
    },
    {
     "name": "stdout",
     "output_type": "stream",
     "text": [
      "['approaches', 'nearbuilding', 'nearwoods', 0.7786]\n",
      "_____________________________________________\n"
     ]
    },
    {
     "data": {
      "image/png": "[encoded data removed]",
      "text/plain": [
       "<Figure size 432x288 with 1 Axes>"
      ]
     },
     "metadata": {
      "needs_background": "light"
     },
     "output_type": "display_data"
    },
    {
     "name": "stdout",
     "output_type": "stream",
     "text": [
      "['approaches', 'neargarden', 'neargrass', 0.2793]\n",
      "_____________________________________________\n"
     ]
    },
    {
     "data": {
      "image/png": "[encoded data removed]",
      "text/plain": [
       "<Figure size 432x288 with 1 Axes>"
      ]
     },
     "metadata": {
      "needs_background": "light"
     },
     "output_type": "display_data"
    },
    {
     "name": "stdout",
     "output_type": "stream",
     "text": [
      "['approaches', 'neargarden', 'nearpedestrian', 0.1832]\n",
      "_____________________________________________\n"
     ]
    },
    {
     "data": {
      "image/png": "[encoded data removed]",
      "text/plain": [
       "<Figure size 432x288 with 1 Axes>"
      ]
     },
     "metadata": {
      "needs_background": "light"
     },
     "output_type": "display_data"
    },
    {
     "name": "stdout",
     "output_type": "stream",
     "text": [
      "['approaches', 'neargarden', 'nearwater', 0.6826]\n",
      "_____________________________________________\n"
     ]
    },
    {
     "data": {
      "image/png": "[encoded data removed]",
      "text/plain": [
       "<Figure size 432x288 with 1 Axes>"
      ]
     },
     "metadata": {
      "needs_background": "light"
     },
     "output_type": "display_data"
    },
    {
     "name": "stdout",
     "output_type": "stream",
     "text": [
      "['approaches', 'neargarden', 'nearwoods', 0.1865]\n",
      "_____________________________________________\n"
     ]
    },
    {
     "data": {
      "image/png": "[encoded data removed]",
      "text/plain": [
       "<Figure size 432x288 with 1 Axes>"
      ]
     },
     "metadata": {
      "needs_background": "light"
     },
     "output_type": "display_data"
    },
    {
     "name": "stdout",
     "output_type": "stream",
     "text": [
      "['approaches', 'neargrass', 'nearpedestrian', 0.4197]\n",
      "_____________________________________________\n"
     ]
    },
    {
     "data": {
      "image/png": "[encoded data removed]",
      "text/plain": [
       "<Figure size 432x288 with 1 Axes>"
      ]
     },
     "metadata": {
      "needs_background": "light"
     },
     "output_type": "display_data"
    },
    {
     "name": "stdout",
     "output_type": "stream",
     "text": [
      "['approaches', 'neargrass', 'nearwater', 0.4145]\n",
      "_____________________________________________\n"
     ]
    },
    {
     "data": {
      "image/png": "[encoded data removed]",
      "text/plain": [
       "<Figure size 432x288 with 1 Axes>"
      ]
     },
     "metadata": {
      "needs_background": "light"
     },
     "output_type": "display_data"
    },
    {
     "name": "stdout",
     "output_type": "stream",
     "text": [
      "['approaches', 'neargrass', 'nearwoods', 0.622]\n",
      "_____________________________________________\n"
     ]
    },
    {
     "data": {
      "image/png": "[encoded data removed]",
      "text/plain": [
       "<Figure size 432x288 with 1 Axes>"
      ]
     },
     "metadata": {
      "needs_background": "light"
     },
     "output_type": "display_data"
    },
    {
     "name": "stdout",
     "output_type": "stream",
     "text": [
      "['approaches', 'nearpedestrian', 'nearwater', 0.2289]\n",
      "_____________________________________________\n"
     ]
    },
    {
     "data": {
      "image/png": "[encoded data removed]",
      "text/plain": [
       "<Figure size 432x288 with 1 Axes>"
      ]
     },
     "metadata": {
      "needs_background": "light"
     },
     "output_type": "display_data"
    },
    {
     "name": "stdout",
     "output_type": "stream",
     "text": [
      "['approaches', 'nearpedestrian', 'nearwoods', 0.5653]\n",
      "_____________________________________________\n"
     ]
    },
    {
     "data": {
      "image/png": "[encoded data removed]",
      "text/plain": [
       "<Figure size 432x288 with 1 Axes>"
      ]
     },
     "metadata": {
      "needs_background": "light"
     },
     "output_type": "display_data"
    },
    {
     "name": "stdout",
     "output_type": "stream",
     "text": [
      "['approaches', 'nearwater', 'nearwoods', 0.1225]\n",
      "_____________________________________________\n"
     ]
    },
    {
     "data": {
      "image/png": "[encoded data removed]",
      "text/plain": [
       "<Figure size 432x288 with 1 Axes>"
      ]
     },
     "metadata": {
      "needs_background": "light"
     },
     "output_type": "display_data"
    },
    {
     "name": "stdout",
     "output_type": "stream",
     "text": [
      "['indifferent', 'nearbuilding', 'neargarden', 0.1888]\n",
      "_____________________________________________\n"
     ]
    },
    {
     "data": {
      "image/png": "[encoded data removed]",
      "text/plain": [
       "<Figure size 432x288 with 1 Axes>"
      ]
     },
     "metadata": {
      "needs_background": "light"
     },
     "output_type": "display_data"
    },
    {
     "name": "stdout",
     "output_type": "stream",
     "text": [
      "['indifferent', 'nearbuilding', 'neargrass', 0.0006]\n",
      "_____________________________________________\n"
     ]
    },
    {
     "data": {
      "image/png": "[encoded data removed]",
      "text/plain": [
       "<Figure size 432x288 with 1 Axes>"
      ]
     },
     "metadata": {
      "needs_background": "light"
     },
     "output_type": "display_data"
    },
    {
     "name": "stdout",
     "output_type": "stream",
     "text": [
      "['indifferent', 'nearbuilding', 'nearpedestrian', 0.3636]\n",
      "_____________________________________________\n"
     ]
    },
    {
     "data": {
      "image/png": "[encoded data removed]",
      "text/plain": [
       "<Figure size 432x288 with 1 Axes>"
      ]
     },
     "metadata": {
      "needs_background": "light"
     },
     "output_type": "display_data"
    },
    {
     "name": "stdout",
     "output_type": "stream",
     "text": [
      "['indifferent', 'nearbuilding', 'nearwater', 0.2939]\n",
      "_____________________________________________\n"
     ]
    },
    {
     "data": {
      "image/png": "[encoded data removed]",
      "text/plain": [
       "<Figure size 432x288 with 1 Axes>"
      ]
     },
     "metadata": {
      "needs_background": "light"
     },
     "output_type": "display_data"
    },
    {
     "name": "stdout",
     "output_type": "stream",
     "text": [
      "['indifferent', 'nearbuilding', 'nearwoods', 0.1183]\n",
      "_____________________________________________\n"
     ]
    },
    {
     "data": {
      "image/png": "[encoded data removed]",
      "text/plain": [
       "<Figure size 432x288 with 1 Axes>"
      ]
     },
     "metadata": {
      "needs_background": "light"
     },
     "output_type": "display_data"
    },
    {
     "name": "stdout",
     "output_type": "stream",
     "text": [
      "['indifferent', 'neargarden', 'neargrass', 0.0174]\n",
      "_____________________________________________\n"
     ]
    },
    {
     "data": {
      "image/png": "[encoded data removed]",
      "text/plain": [
       "<Figure size 432x288 with 1 Axes>"
      ]
     },
     "metadata": {
      "needs_background": "light"
     },
     "output_type": "display_data"
    },
    {
     "name": "stdout",
     "output_type": "stream",
     "text": [
      "['indifferent', 'neargarden', 'nearpedestrian', 0.0222]\n",
      "_____________________________________________\n"
     ]
    },
    {
     "data": {
      "image/png": "[encoded data removed]",
      "text/plain": [
       "<Figure size 432x288 with 1 Axes>"
      ]
     },
     "metadata": {
      "needs_background": "light"
     },
     "output_type": "display_data"
    },
    {
     "name": "stdout",
     "output_type": "stream",
     "text": [
      "['indifferent', 'neargarden', 'nearwater', 0.5572]\n",
      "_____________________________________________\n"
     ]
    },
    {
     "data": {
      "image/png": "[encoded data removed]",
      "text/plain": [
       "<Figure size 432x288 with 1 Axes>"
      ]
     },
     "metadata": {
      "needs_background": "light"
     },
     "output_type": "display_data"
    },
    {
     "name": "stdout",
     "output_type": "stream",
     "text": [
      "['indifferent', 'neargarden', 'nearwoods', 0.973]\n",
      "_____________________________________________\n"
     ]
    },
    {
     "data": {
      "image/png": "[encoded data removed]",
      "text/plain": [
       "<Figure size 432x288 with 1 Axes>"
      ]
     },
     "metadata": {
      "needs_background": "light"
     },
     "output_type": "display_data"
    },
    {
     "name": "stdout",
     "output_type": "stream",
     "text": [
      "['indifferent', 'neargrass', 'nearpedestrian', 0.0001]\n",
      "_____________________________________________\n"
     ]
    },
    {
     "data": {
      "image/png": "[encoded data removed]",
      "text/plain": [
       "<Figure size 432x288 with 1 Axes>"
      ]
     },
     "metadata": {
      "needs_background": "light"
     },
     "output_type": "display_data"
    },
    {
     "name": "stdout",
     "output_type": "stream",
     "text": [
      "['indifferent', 'neargrass', 'nearwater', 0.0]\n",
      "_____________________________________________\n"
     ]
    },
    {
     "data": {
      "image/png": "[encoded data removed]",
      "text/plain": [
       "<Figure size 432x288 with 1 Axes>"
      ]
     },
     "metadata": {
      "needs_background": "light"
     },
     "output_type": "display_data"
    },
    {
     "name": "stdout",
     "output_type": "stream",
     "text": [
      "['indifferent', 'neargrass', 'nearwoods', 0.0002]\n",
      "_____________________________________________\n"
     ]
    },
    {
     "data": {
      "image/png": "[encoded data removed]",
      "text/plain": [
       "<Figure size 432x288 with 1 Axes>"
      ]
     },
     "metadata": {
      "needs_background": "light"
     },
     "output_type": "display_data"
    },
    {
     "name": "stdout",
     "output_type": "stream",
     "text": [
      "['indifferent', 'nearpedestrian', 'nearwater', 0.0379]\n",
      "_____________________________________________\n"
     ]
    },
    {
     "data": {
      "image/png": "[encoded data removed]",
      "text/plain": [
       "<Figure size 432x288 with 1 Axes>"
      ]
     },
     "metadata": {
      "needs_background": "light"
     },
     "output_type": "display_data"
    },
    {
     "name": "stdout",
     "output_type": "stream",
     "text": [
      "['indifferent', 'nearpedestrian', 'nearwoods', 0.0107]\n",
      "_____________________________________________\n"
     ]
    },
    {
     "data": {
      "image/png": "[encoded data removed]",
      "text/plain": [
       "<Figure size 432x288 with 1 Axes>"
      ]
     },
     "metadata": {
      "needs_background": "light"
     },
     "output_type": "display_data"
    },
    {
     "name": "stdout",
     "output_type": "stream",
     "text": [
      "['indifferent', 'nearwater', 'nearwoods', 0.3199]\n",
      "_____________________________________________\n"
     ]
    },
    {
     "data": {
      "image/png": "[encoded data removed]",
      "text/plain": [
       "<Figure size 432x288 with 1 Axes>"
      ]
     },
     "metadata": {
      "needs_background": "light"
     },
     "output_type": "display_data"
    },
    {
     "name": "stdout",
     "output_type": "stream",
     "text": [
      "['runs_from', 'nearbuilding', 'neargarden', 0.9001]\n",
      "_____________________________________________\n"
     ]
    },
    {
     "data": {
      "image/png": "[encoded data removed]",
      "text/plain": [
       "<Figure size 432x288 with 1 Axes>"
      ]
     },
     "metadata": {
      "needs_background": "light"
     },
     "output_type": "display_data"
    },
    {
     "name": "stdout",
     "output_type": "stream",
     "text": [
      "['runs_from', 'nearbuilding', 'neargrass', 0.2623]\n",
      "_____________________________________________\n"
     ]
    },
    {
     "data": {
      "image/png": "[encoded data removed]",
      "text/plain": [
       "<Figure size 432x288 with 1 Axes>"
      ]
     },
     "metadata": {
      "needs_background": "light"
     },
     "output_type": "display_data"
    },
    {
     "name": "stdout",
     "output_type": "stream",
     "text": [
      "['runs_from', 'nearbuilding', 'nearpedestrian', 0.4195]\n",
      "_____________________________________________\n"
     ]
    },
    {
     "data": {
      "image/png": "[encoded data removed]",
      "text/plain": [
       "<Figure size 432x288 with 1 Axes>"
      ]
     },
     "metadata": {
      "needs_background": "light"
     },
     "output_type": "display_data"
    },
    {
     "name": "stdout",
     "output_type": "stream",
     "text": [
      "['runs_from', 'nearbuilding', 'nearwater', 0.498]\n",
      "_____________________________________________\n"
     ]
    },
    {
     "data": {
      "image/png": "[encoded data removed]",
      "text/plain": [
       "<Figure size 432x288 with 1 Axes>"
      ]
     },
     "metadata": {
      "needs_background": "light"
     },
     "output_type": "display_data"
    },
    {
     "name": "stdout",
     "output_type": "stream",
     "text": [
      "['runs_from', 'nearbuilding', 'nearwoods', 0.1753]\n",
      "_____________________________________________\n"
     ]
    },
    {
     "data": {
      "image/png": "[encoded data removed]",
      "text/plain": [
       "<Figure size 432x288 with 1 Axes>"
      ]
     },
     "metadata": {
      "needs_background": "light"
     },
     "output_type": "display_data"
    },
    {
     "name": "stdout",
     "output_type": "stream",
     "text": [
      "['runs_from', 'neargarden', 'neargrass', 0.0922]\n",
      "_____________________________________________\n"
     ]
    },
    {
     "data": {
      "image/png": "[encoded data removed]",
      "text/plain": [
       "<Figure size 432x288 with 1 Axes>"
      ]
     },
     "metadata": {
      "needs_background": "light"
     },
     "output_type": "display_data"
    },
    {
     "name": "stdout",
     "output_type": "stream",
     "text": [
      "['runs_from', 'neargarden', 'nearpedestrian', 0.4442]\n",
      "_____________________________________________\n"
     ]
    },
    {
     "data": {
      "image/png": "[encoded data removed]",
      "text/plain": [
       "<Figure size 432x288 with 1 Axes>"
      ]
     },
     "metadata": {
      "needs_background": "light"
     },
     "output_type": "display_data"
    },
    {
     "name": "stdout",
     "output_type": "stream",
     "text": [
      "['runs_from', 'neargarden', 'nearwater', 0.2947]\n",
      "_____________________________________________\n"
     ]
    },
    {
     "data": {
      "image/png": "[encoded data removed]",
      "text/plain": [
       "<Figure size 432x288 with 1 Axes>"
      ]
     },
     "metadata": {
      "needs_background": "light"
     },
     "output_type": "display_data"
    },
    {
     "name": "stdout",
     "output_type": "stream",
     "text": [
      "['runs_from', 'neargarden', 'nearwoods', 0.0546]\n",
      "_____________________________________________\n"
     ]
    },
    {
     "data": {
      "image/png": "[encoded data removed]",
      "text/plain": [
       "<Figure size 432x288 with 1 Axes>"
      ]
     },
     "metadata": {
      "needs_background": "light"
     },
     "output_type": "display_data"
    },
    {
     "name": "stdout",
     "output_type": "stream",
     "text": [
      "['runs_from', 'neargrass', 'nearpedestrian', 0.0397]\n",
      "_____________________________________________\n"
     ]
    },
    {
     "data": {
      "image/png": "[encoded data removed]",
      "text/plain": [
       "<Figure size 432x288 with 1 Axes>"
      ]
     },
     "metadata": {
      "needs_background": "light"
     },
     "output_type": "display_data"
    },
    {
     "name": "stdout",
     "output_type": "stream",
     "text": [
      "['runs_from', 'neargrass', 'nearwater', 0.4698]\n",
      "_____________________________________________\n"
     ]
    },
    {
     "data": {
      "image/png": "[encoded data removed]",
      "text/plain": [
       "<Figure size 432x288 with 1 Axes>"
      ]
     },
     "metadata": {
      "needs_background": "light"
     },
     "output_type": "display_data"
    },
    {
     "name": "stdout",
     "output_type": "stream",
     "text": [
      "['runs_from', 'neargrass', 'nearwoods', 0.6341]\n",
      "_____________________________________________\n"
     ]
    },
    {
     "data": {
      "image/png": "[encoded data removed]",
      "text/plain": [
       "<Figure size 432x288 with 1 Axes>"
      ]
     },
     "metadata": {
      "needs_background": "light"
     },
     "output_type": "display_data"
    },
    {
     "name": "stdout",
     "output_type": "stream",
     "text": [
      "['runs_from', 'nearpedestrian', 'nearwater', 0.1064]\n",
      "_____________________________________________\n"
     ]
    },
    {
     "data": {
      "image/png": "[encoded data removed]",
      "text/plain": [
       "<Figure size 432x288 with 1 Axes>"
      ]
     },
     "metadata": {
      "needs_background": "light"
     },
     "output_type": "display_data"
    },
    {
     "name": "stdout",
     "output_type": "stream",
     "text": [
      "['runs_from', 'nearpedestrian', 'nearwoods', 0.026]\n",
      "_____________________________________________\n"
     ]
    },
    {
     "data": {
      "image/png": "[encoded data removed]",
      "text/plain": [
       "<Figure size 432x288 with 1 Axes>"
      ]
     },
     "metadata": {
      "needs_background": "light"
     },
     "output_type": "display_data"
    },
    {
     "name": "stdout",
     "output_type": "stream",
     "text": [
      "['runs_from', 'nearwater', 'nearwoods', 0.1637]\n",
      "_____________________________________________\n"
     ]
    }
   ],
   "source": [
    "behaviors = ['approaches', 'indifferent', 'runs_from']\n",
    "features = ['nearbuilding' ,'neargarden', 'neargrass', 'nearpedestrian', 'nearwater', 'nearwoods']\n",
    "\n",
    "for b in behaviors:\n",
    "    for i in range(len(features)):\n",
    "        f1 = features[i]\n",
    "        for j in range(i + 1, len(features)):\n",
    "            f2 = features[j]\n",
    "            behavior_df = sqrls[[b, f1, f2]]\n",
    "            grouped = behavior_df.groupby(behavior_df[b]).sum()\n",
    "            grouped = grouped.divide(grouped.sum(axis=0), axis=1)\n",
    "            observed_stat = abs(grouped.loc[1][1] - grouped.loc[1][0])\n",
    "            \n",
    "            stats = np.array([])\n",
    "\n",
    "            for i in range(10000):\n",
    "                shuffled = behavior_df[b].sample(frac=1).reset_index(drop=True)\n",
    "                shuffled_df = behavior_df.assign(**{'shuffled ' + b: shuffled})\n",
    "                shuffled_grouped = shuffled_df.groupby('shuffled ' + b).sum()\n",
    "                shuffled_grouped = shuffled_grouped.divide(shuffled_grouped.sum(axis=0), axis=1)\n",
    "                shuffled_stat = abs(shuffled_grouped.loc[1][2] - shuffled_grouped.loc[1][1])\n",
    "                stats = np.append(stats, shuffled_stat)\n",
    "            \n",
    "            plt.hist(stats)\n",
    "            plt.axvline(observed_stat, color = 'red') \n",
    "            plt.show()\n",
    "            \n",
    "            p_value = np.mean(stats >= observed_stat)\n",
    "            \n",
    "            print([b, f1, f2, p_value])\n",
    "            print('_____________________________________________')"
   ]
  },
  {
   "cell_type": "code",
   "execution_count": null,
   "id": "1b8b55ca",
   "metadata": {},
   "outputs": [],
   "source": []
  }
 ],
 "metadata": {
  "kernelspec": {
   "display_name": "Python 3 (ipykernel)",
   "language": "python",
   "name": "python3"
  },
  "language_info": {
   "codemirror_mode": {
    "name": "ipython",
    "version": 3
   },
   "file_extension": ".py",
   "mimetype": "text/x-python",
   "name": "python",
   "nbconvert_exporter": "python",
   "pygments_lexer": "ipython3",
   "version": "3.10.2"
  }
 },
 "nbformat": 4,
 "nbformat_minor": 5
}
